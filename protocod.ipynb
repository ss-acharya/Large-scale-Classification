{
 "cells": [
  {
   "cell_type": "code",
   "execution_count": 1,
   "id": "4bf2952a",
   "metadata": {},
   "outputs": [
    {
     "name": "stdout",
     "output_type": "stream",
     "text": [
      "Requirement already satisfied: torch in c:\\bit9prog\\anaconda\\lib\\site-packages (1.13.1)\n",
      "Requirement already satisfied: typing-extensions in c:\\bit9prog\\anaconda\\lib\\site-packages (from torch) (4.3.0)\n",
      "Requirement already satisfied: transformers in c:\\bit9prog\\anaconda\\lib\\site-packages (4.26.1)\n",
      "Requirement already satisfied: huggingface-hub<1.0,>=0.11.0 in c:\\bit9prog\\anaconda\\lib\\site-packages (from transformers) (0.12.0)\n",
      "Requirement already satisfied: filelock in c:\\bit9prog\\anaconda\\lib\\site-packages (from transformers) (3.6.0)\n",
      "Requirement already satisfied: requests in c:\\bit9prog\\anaconda\\lib\\site-packages (from transformers) (2.28.1)\n",
      "Requirement already satisfied: regex!=2019.12.17 in c:\\bit9prog\\anaconda\\lib\\site-packages (from transformers) (2022.7.9)\n",
      "Requirement already satisfied: pyyaml>=5.1 in c:\\bit9prog\\anaconda\\lib\\site-packages (from transformers) (6.0)\n",
      "Requirement already satisfied: numpy>=1.17 in c:\\bit9prog\\anaconda\\lib\\site-packages (from transformers) (1.21.5)\n",
      "Requirement already satisfied: tokenizers!=0.11.3,<0.14,>=0.11.1 in c:\\users\\badri.prasad\\appdata\\roaming\\python\\python39\\site-packages (from transformers) (0.13.1)\n",
      "Requirement already satisfied: packaging>=20.0 in c:\\bit9prog\\anaconda\\lib\\site-packages (from transformers) (21.3)\n",
      "Requirement already satisfied: tqdm>=4.27 in c:\\bit9prog\\anaconda\\lib\\site-packages (from transformers) (4.64.1)\n",
      "Requirement already satisfied: typing-extensions>=3.7.4.3 in c:\\bit9prog\\anaconda\\lib\\site-packages (from huggingface-hub<1.0,>=0.11.0->transformers) (4.3.0)\n",
      "Requirement already satisfied: pyparsing!=3.0.5,>=2.0.2 in c:\\bit9prog\\anaconda\\lib\\site-packages (from packaging>=20.0->transformers) (3.0.9)\n",
      "Requirement already satisfied: colorama in c:\\bit9prog\\anaconda\\lib\\site-packages (from tqdm>=4.27->transformers) (0.4.5)\n",
      "Requirement already satisfied: idna<4,>=2.5 in c:\\bit9prog\\anaconda\\lib\\site-packages (from requests->transformers) (3.3)\n",
      "Requirement already satisfied: urllib3<1.27,>=1.21.1 in c:\\bit9prog\\anaconda\\lib\\site-packages (from requests->transformers) (1.26.11)\n",
      "Requirement already satisfied: charset-normalizer<3,>=2 in c:\\bit9prog\\anaconda\\lib\\site-packages (from requests->transformers) (2.0.4)\n",
      "Requirement already satisfied: certifi>=2017.4.17 in c:\\bit9prog\\anaconda\\lib\\site-packages (from requests->transformers) (2022.9.14)\n"
     ]
    }
   ],
   "source": [
    "#one time install of torch, transformers\n",
    "!pip install torch\n",
    "!pip install transformers"
   ]
  },
  {
   "cell_type": "code",
   "execution_count": 2,
   "id": "9ffa050c",
   "metadata": {},
   "outputs": [],
   "source": [
    "import numpy as np\n",
    "import pandas as pd\n",
    "import torch\n",
    "import transformers as ppb # pytorch transformers\n",
    "from sklearn.linear_model import LogisticRegression\n",
    "from sklearn.model_selection import cross_val_score\n",
    "from sklearn.model_selection import train_test_split\n",
    "from sklearn.metrics import *\n",
    "import datetime"
   ]
  },
  {
   "cell_type": "code",
   "execution_count": 3,
   "id": "a1d0da55",
   "metadata": {},
   "outputs": [],
   "source": [
    "model_class, tokenizer_class, pretrained_weights = (ppb.DistilBertModel, ppb.DistilBertTokenizer, 'distilbert-base-uncased')"
   ]
  },
  {
   "cell_type": "code",
   "execution_count": 37,
   "id": "82c924c6",
   "metadata": {},
   "outputs": [],
   "source": [
    "VSafe_symptoms_records_df = pd.read_csv(r'C:\\Users\\badri.prasad\\OneDrive - GDIT\\Documents\\VSAFE\\VSafeCoded_records_until_11_1420221206094319\\VSafe-Coding-symptoms-description-Coded-Records-11-14.csv')"
   ]
  },
  {
   "cell_type": "code",
   "execution_count": 5,
   "id": "dac546ec",
   "metadata": {},
   "outputs": [
    {
     "data": {
      "text/html": [
       "<div>\n",
       "<style scoped>\n",
       "    .dataframe tbody tr th:only-of-type {\n",
       "        vertical-align: middle;\n",
       "    }\n",
       "\n",
       "    .dataframe tbody tr th {\n",
       "        vertical-align: top;\n",
       "    }\n",
       "\n",
       "    .dataframe thead th {\n",
       "        text-align: right;\n",
       "    }\n",
       "</style>\n",
       "<table border=\"1\" class=\"dataframe\">\n",
       "  <thead>\n",
       "    <tr style=\"text-align: right;\">\n",
       "      <th></th>\n",
       "      <th>OtherTypeFileName</th>\n",
       "      <th>Symptoms_Other</th>\n",
       "      <th>ResponseOtherNbr</th>\n",
       "      <th>ResponseID</th>\n",
       "      <th>Survey_Static_ID</th>\n",
       "      <th>Registrant_Code</th>\n",
       "      <th>Started_On</th>\n",
       "      <th>DS_Name</th>\n",
       "      <th>ptEnglish</th>\n",
       "      <th>lltEnglish</th>\n",
       "      <th>lltVersion</th>\n",
       "    </tr>\n",
       "  </thead>\n",
       "  <tbody>\n",
       "    <tr>\n",
       "      <th>0</th>\n",
       "      <td>symptoms_description</td>\n",
       "      <td>Hematoma at injection site. Appeared last week.</td>\n",
       "      <td>74650</td>\n",
       "      <td>s243977125742181582231051202904933953463</td>\n",
       "      <td>vsafe-14-day-dose1</td>\n",
       "      <td>3SP-26919-22331</td>\n",
       "      <td>12/28/2020</td>\n",
       "      <td>vsafe_surveys_20201214-20210112.csv</td>\n",
       "      <td>Injection site haematoma</td>\n",
       "      <td>Hematoma injection site</td>\n",
       "      <td>25.1</td>\n",
       "    </tr>\n",
       "    <tr>\n",
       "      <th>1</th>\n",
       "      <td>symptoms_description</td>\n",
       "      <td>Persistent headache and stiff neck</td>\n",
       "      <td>74651</td>\n",
       "      <td>s243998780637162849260341594616872193448</td>\n",
       "      <td>vsafe-14-day-dose1</td>\n",
       "      <td>3V2-32861-01404</td>\n",
       "      <td>12/28/2020</td>\n",
       "      <td>vsafe_surveys_20201214-20210112.csv</td>\n",
       "      <td>Headache</td>\n",
       "      <td>Headache</td>\n",
       "      <td>25.1</td>\n",
       "    </tr>\n",
       "    <tr>\n",
       "      <th>2</th>\n",
       "      <td>symptoms_description</td>\n",
       "      <td>Persistent headache and stiff neck</td>\n",
       "      <td>74651</td>\n",
       "      <td>s243998780637162849260341594616872193448</td>\n",
       "      <td>vsafe-14-day-dose1</td>\n",
       "      <td>3V2-32861-01404</td>\n",
       "      <td>12/28/2020</td>\n",
       "      <td>vsafe_surveys_20201214-20210112.csv</td>\n",
       "      <td>Musculoskeletal stiffness</td>\n",
       "      <td>Stiff neck</td>\n",
       "      <td>25.1</td>\n",
       "    </tr>\n",
       "    <tr>\n",
       "      <th>3</th>\n",
       "      <td>symptoms_description</td>\n",
       "      <td>Congestion. Sore throat. Ear ache.</td>\n",
       "      <td>74652</td>\n",
       "      <td>s243985592580555985369977218646562988981</td>\n",
       "      <td>vsafe-14-day-dose1</td>\n",
       "      <td>4ZK-13405-96024</td>\n",
       "      <td>12/28/2020</td>\n",
       "      <td>vsafe_surveys_20201214-20210112.csv</td>\n",
       "      <td>Ear pain</td>\n",
       "      <td>Ear ache</td>\n",
       "      <td>25.1</td>\n",
       "    </tr>\n",
       "    <tr>\n",
       "      <th>4</th>\n",
       "      <td>symptoms_description</td>\n",
       "      <td>Congestion. Sore throat. Ear ache.</td>\n",
       "      <td>74652</td>\n",
       "      <td>s243985592580555985369977218646562988981</td>\n",
       "      <td>vsafe-14-day-dose1</td>\n",
       "      <td>4ZK-13405-96024</td>\n",
       "      <td>12/28/2020</td>\n",
       "      <td>vsafe_surveys_20201214-20210112.csv</td>\n",
       "      <td>Respiratory tract congestion</td>\n",
       "      <td>Respiratory tract congestion</td>\n",
       "      <td>25.1</td>\n",
       "    </tr>\n",
       "  </tbody>\n",
       "</table>\n",
       "</div>"
      ],
      "text/plain": [
       "      OtherTypeFileName                                   Symptoms_Other  \\\n",
       "0  symptoms_description  Hematoma at injection site. Appeared last week.   \n",
       "1  symptoms_description               Persistent headache and stiff neck   \n",
       "2  symptoms_description               Persistent headache and stiff neck   \n",
       "3  symptoms_description               Congestion. Sore throat. Ear ache.   \n",
       "4  symptoms_description               Congestion. Sore throat. Ear ache.   \n",
       "\n",
       "   ResponseOtherNbr                                ResponseID  \\\n",
       "0             74650  s243977125742181582231051202904933953463   \n",
       "1             74651  s243998780637162849260341594616872193448   \n",
       "2             74651  s243998780637162849260341594616872193448   \n",
       "3             74652  s243985592580555985369977218646562988981   \n",
       "4             74652  s243985592580555985369977218646562988981   \n",
       "\n",
       "     Survey_Static_ID  Registrant_Code  Started_On  \\\n",
       "0  vsafe-14-day-dose1  3SP-26919-22331  12/28/2020   \n",
       "1  vsafe-14-day-dose1  3V2-32861-01404  12/28/2020   \n",
       "2  vsafe-14-day-dose1  3V2-32861-01404  12/28/2020   \n",
       "3  vsafe-14-day-dose1  4ZK-13405-96024  12/28/2020   \n",
       "4  vsafe-14-day-dose1  4ZK-13405-96024  12/28/2020   \n",
       "\n",
       "                               DS_Name                     ptEnglish  \\\n",
       "0  vsafe_surveys_20201214-20210112.csv      Injection site haematoma   \n",
       "1  vsafe_surveys_20201214-20210112.csv                      Headache   \n",
       "2  vsafe_surveys_20201214-20210112.csv     Musculoskeletal stiffness   \n",
       "3  vsafe_surveys_20201214-20210112.csv                      Ear pain   \n",
       "4  vsafe_surveys_20201214-20210112.csv  Respiratory tract congestion   \n",
       "\n",
       "                     lltEnglish  lltVersion  \n",
       "0       Hematoma injection site        25.1  \n",
       "1                      Headache        25.1  \n",
       "2                    Stiff neck        25.1  \n",
       "3                      Ear ache        25.1  \n",
       "4  Respiratory tract congestion        25.1  "
      ]
     },
     "execution_count": 5,
     "metadata": {},
     "output_type": "execute_result"
    }
   ],
   "source": [
    "VSafe_symptoms_records_df.head()"
   ]
  },
  {
   "cell_type": "code",
   "execution_count": 6,
   "id": "4e32af65",
   "metadata": {},
   "outputs": [
    {
     "data": {
      "text/html": [
       "<div>\n",
       "<style scoped>\n",
       "    .dataframe tbody tr th:only-of-type {\n",
       "        vertical-align: middle;\n",
       "    }\n",
       "\n",
       "    .dataframe tbody tr th {\n",
       "        vertical-align: top;\n",
       "    }\n",
       "\n",
       "    .dataframe thead th {\n",
       "        text-align: right;\n",
       "    }\n",
       "</style>\n",
       "<table border=\"1\" class=\"dataframe\">\n",
       "  <thead>\n",
       "    <tr style=\"text-align: right;\">\n",
       "      <th></th>\n",
       "      <th>OtherTypeFileName</th>\n",
       "      <th>Symptoms_Other</th>\n",
       "      <th>ResponseOtherNbr</th>\n",
       "      <th>ResponseID</th>\n",
       "      <th>Survey_Static_ID</th>\n",
       "      <th>Registrant_Code</th>\n",
       "      <th>Started_On</th>\n",
       "      <th>DS_Name</th>\n",
       "      <th>ptEnglish</th>\n",
       "      <th>lltEnglish</th>\n",
       "      <th>lltVersion</th>\n",
       "    </tr>\n",
       "  </thead>\n",
       "  <tbody>\n",
       "    <tr>\n",
       "      <th>73348</th>\n",
       "      <td>symptoms_description</td>\n",
       "      <td>my body feels very week and im really drowsy. ...</td>\n",
       "      <td>349589</td>\n",
       "      <td>s245588030979798264855047341172968840688</td>\n",
       "      <td>vsafe-21-day-dose1-asz-mod</td>\n",
       "      <td>Q75-20932-01742</td>\n",
       "      <td>01/13/2021</td>\n",
       "      <td>vsafe_surveys_20201214-20210112.csv</td>\n",
       "      <td>Asthenia</td>\n",
       "      <td>Weakness</td>\n",
       "      <td>25.1</td>\n",
       "    </tr>\n",
       "    <tr>\n",
       "      <th>73349</th>\n",
       "      <td>symptoms_description</td>\n",
       "      <td>Sore throat , runny nose , loss of taste and s...</td>\n",
       "      <td>349590</td>\n",
       "      <td>s245604809383298450861596951302227257052</td>\n",
       "      <td>vsafe-21-day-dose1-nvx-pfr</td>\n",
       "      <td>LGS-24181-04569</td>\n",
       "      <td>01/13/2021</td>\n",
       "      <td>vsafe_surveys_20201214-20210112.csv</td>\n",
       "      <td>Anosmia</td>\n",
       "      <td>Loss of smell</td>\n",
       "      <td>25.1</td>\n",
       "    </tr>\n",
       "    <tr>\n",
       "      <th>73350</th>\n",
       "      <td>symptoms_description</td>\n",
       "      <td>Sore throat , runny nose , loss of taste and s...</td>\n",
       "      <td>349590</td>\n",
       "      <td>s245604809383298450861596951302227257052</td>\n",
       "      <td>vsafe-21-day-dose1-nvx-pfr</td>\n",
       "      <td>LGS-24181-04569</td>\n",
       "      <td>01/13/2021</td>\n",
       "      <td>vsafe_surveys_20201214-20210112.csv</td>\n",
       "      <td>Ageusia</td>\n",
       "      <td>Loss of taste</td>\n",
       "      <td>25.1</td>\n",
       "    </tr>\n",
       "    <tr>\n",
       "      <th>73351</th>\n",
       "      <td>symptoms_description</td>\n",
       "      <td>Sore throat , runny nose , loss of taste and s...</td>\n",
       "      <td>349590</td>\n",
       "      <td>s245604809383298450861596951302227257052</td>\n",
       "      <td>vsafe-21-day-dose1-nvx-pfr</td>\n",
       "      <td>LGS-24181-04569</td>\n",
       "      <td>01/13/2021</td>\n",
       "      <td>vsafe_surveys_20201214-20210112.csv</td>\n",
       "      <td>Rhinorrhoea</td>\n",
       "      <td>Runny nose</td>\n",
       "      <td>25.1</td>\n",
       "    </tr>\n",
       "    <tr>\n",
       "      <th>73352</th>\n",
       "      <td>symptoms_description</td>\n",
       "      <td>Sore throat , runny nose , loss of taste and s...</td>\n",
       "      <td>349590</td>\n",
       "      <td>s245604809383298450861596951302227257052</td>\n",
       "      <td>vsafe-21-day-dose1-nvx-pfr</td>\n",
       "      <td>LGS-24181-04569</td>\n",
       "      <td>01/13/2021</td>\n",
       "      <td>vsafe_surveys_20201214-20210112.csv</td>\n",
       "      <td>Oropharyngeal pain</td>\n",
       "      <td>Sore throat</td>\n",
       "      <td>25.1</td>\n",
       "    </tr>\n",
       "  </tbody>\n",
       "</table>\n",
       "</div>"
      ],
      "text/plain": [
       "          OtherTypeFileName  \\\n",
       "73348  symptoms_description   \n",
       "73349  symptoms_description   \n",
       "73350  symptoms_description   \n",
       "73351  symptoms_description   \n",
       "73352  symptoms_description   \n",
       "\n",
       "                                          Symptoms_Other  ResponseOtherNbr  \\\n",
       "73348  my body feels very week and im really drowsy. ...            349589   \n",
       "73349  Sore throat , runny nose , loss of taste and s...            349590   \n",
       "73350  Sore throat , runny nose , loss of taste and s...            349590   \n",
       "73351  Sore throat , runny nose , loss of taste and s...            349590   \n",
       "73352  Sore throat , runny nose , loss of taste and s...            349590   \n",
       "\n",
       "                                     ResponseID            Survey_Static_ID  \\\n",
       "73348  s245588030979798264855047341172968840688  vsafe-21-day-dose1-asz-mod   \n",
       "73349  s245604809383298450861596951302227257052  vsafe-21-day-dose1-nvx-pfr   \n",
       "73350  s245604809383298450861596951302227257052  vsafe-21-day-dose1-nvx-pfr   \n",
       "73351  s245604809383298450861596951302227257052  vsafe-21-day-dose1-nvx-pfr   \n",
       "73352  s245604809383298450861596951302227257052  vsafe-21-day-dose1-nvx-pfr   \n",
       "\n",
       "       Registrant_Code  Started_On                              DS_Name  \\\n",
       "73348  Q75-20932-01742  01/13/2021  vsafe_surveys_20201214-20210112.csv   \n",
       "73349  LGS-24181-04569  01/13/2021  vsafe_surveys_20201214-20210112.csv   \n",
       "73350  LGS-24181-04569  01/13/2021  vsafe_surveys_20201214-20210112.csv   \n",
       "73351  LGS-24181-04569  01/13/2021  vsafe_surveys_20201214-20210112.csv   \n",
       "73352  LGS-24181-04569  01/13/2021  vsafe_surveys_20201214-20210112.csv   \n",
       "\n",
       "                ptEnglish     lltEnglish  lltVersion  \n",
       "73348            Asthenia       Weakness        25.1  \n",
       "73349             Anosmia  Loss of smell        25.1  \n",
       "73350             Ageusia  Loss of taste        25.1  \n",
       "73351         Rhinorrhoea     Runny nose        25.1  \n",
       "73352  Oropharyngeal pain    Sore throat        25.1  "
      ]
     },
     "execution_count": 6,
     "metadata": {},
     "output_type": "execute_result"
    }
   ],
   "source": [
    "VSafe_symptoms_records_df.tail()"
   ]
  },
  {
   "cell_type": "code",
   "execution_count": null,
   "id": "7c24275a",
   "metadata": {},
   "outputs": [],
   "source": []
  },
  {
   "cell_type": "code",
   "execution_count": 7,
   "id": "9936237d",
   "metadata": {},
   "outputs": [],
   "source": [
    "VSafe_symptoms_records_df['Symptoms_Other'] = VSafe_symptoms_records_df['Symptoms_Other'].fillna('BLANK')"
   ]
  },
  {
   "cell_type": "code",
   "execution_count": 8,
   "id": "71a2151c",
   "metadata": {},
   "outputs": [],
   "source": [
    "VSafe_symptoms_records_df_lltEnglish_value_counts = VSafe_symptoms_records_df['lltEnglish'].value_counts()"
   ]
  },
  {
   "cell_type": "code",
   "execution_count": 9,
   "id": "9dd6a007",
   "metadata": {},
   "outputs": [
    {
     "data": {
      "text/plain": [
       "Headache                        7234\n",
       "Fatigue                         3772\n",
       "Sore throat                     2689\n",
       "Cough                           2639\n",
       "Nausea                          1847\n",
       "Injection site redness          1826\n",
       "Generalized aching              1780\n",
       "Fever                           1684\n",
       "Diarrhea                        1591\n",
       "Chills                          1546\n",
       "Respiratory tract congestion    1522\n",
       "Injection site itching          1477\n",
       "Runny nose                      1371\n",
       "COVID-19                        1326\n",
       "COVID-19 virus test positive    1279\n",
       "Name: lltEnglish, dtype: int64"
      ]
     },
     "execution_count": 9,
     "metadata": {},
     "output_type": "execute_result"
    }
   ],
   "source": [
    "VSafe_symptoms_records_df_lltEnglish_value_counts.head(15)"
   ]
  },
  {
   "cell_type": "code",
   "execution_count": 10,
   "id": "17b6812b",
   "metadata": {},
   "outputs": [
    {
     "data": {
      "text/plain": [
       "32813"
      ]
     },
     "execution_count": 10,
     "metadata": {},
     "output_type": "execute_result"
    }
   ],
   "source": [
    "VSafe_symptoms_records_df['ResponseOtherNbr'].nunique()"
   ]
  },
  {
   "cell_type": "code",
   "execution_count": 11,
   "id": "4d7bc512",
   "metadata": {},
   "outputs": [
    {
     "data": {
      "text/html": [
       "<div>\n",
       "<style scoped>\n",
       "    .dataframe tbody tr th:only-of-type {\n",
       "        vertical-align: middle;\n",
       "    }\n",
       "\n",
       "    .dataframe tbody tr th {\n",
       "        vertical-align: top;\n",
       "    }\n",
       "\n",
       "    .dataframe thead th {\n",
       "        text-align: right;\n",
       "    }\n",
       "</style>\n",
       "<table border=\"1\" class=\"dataframe\">\n",
       "  <thead>\n",
       "    <tr style=\"text-align: right;\">\n",
       "      <th></th>\n",
       "      <th>OtherTypeFileName</th>\n",
       "      <th>Symptoms_Other</th>\n",
       "      <th>ResponseOtherNbr</th>\n",
       "      <th>ResponseID</th>\n",
       "      <th>Survey_Static_ID</th>\n",
       "      <th>Registrant_Code</th>\n",
       "      <th>Started_On</th>\n",
       "      <th>DS_Name</th>\n",
       "      <th>ptEnglish</th>\n",
       "      <th>lltEnglish</th>\n",
       "      <th>lltVersion</th>\n",
       "    </tr>\n",
       "  </thead>\n",
       "  <tbody>\n",
       "    <tr>\n",
       "      <th>1</th>\n",
       "      <td>symptoms_description</td>\n",
       "      <td>Persistent headache and stiff neck</td>\n",
       "      <td>74651</td>\n",
       "      <td>s243998780637162849260341594616872193448</td>\n",
       "      <td>vsafe-14-day-dose1</td>\n",
       "      <td>3V2-32861-01404</td>\n",
       "      <td>12/28/2020</td>\n",
       "      <td>vsafe_surveys_20201214-20210112.csv</td>\n",
       "      <td>Headache</td>\n",
       "      <td>Headache</td>\n",
       "      <td>25.1</td>\n",
       "    </tr>\n",
       "    <tr>\n",
       "      <th>2</th>\n",
       "      <td>symptoms_description</td>\n",
       "      <td>Persistent headache and stiff neck</td>\n",
       "      <td>74651</td>\n",
       "      <td>s243998780637162849260341594616872193448</td>\n",
       "      <td>vsafe-14-day-dose1</td>\n",
       "      <td>3V2-32861-01404</td>\n",
       "      <td>12/28/2020</td>\n",
       "      <td>vsafe_surveys_20201214-20210112.csv</td>\n",
       "      <td>Musculoskeletal stiffness</td>\n",
       "      <td>Stiff neck</td>\n",
       "      <td>25.1</td>\n",
       "    </tr>\n",
       "  </tbody>\n",
       "</table>\n",
       "</div>"
      ],
      "text/plain": [
       "      OtherTypeFileName                      Symptoms_Other  ResponseOtherNbr  \\\n",
       "1  symptoms_description  Persistent headache and stiff neck             74651   \n",
       "2  symptoms_description  Persistent headache and stiff neck             74651   \n",
       "\n",
       "                                 ResponseID    Survey_Static_ID  \\\n",
       "1  s243998780637162849260341594616872193448  vsafe-14-day-dose1   \n",
       "2  s243998780637162849260341594616872193448  vsafe-14-day-dose1   \n",
       "\n",
       "   Registrant_Code  Started_On                              DS_Name  \\\n",
       "1  3V2-32861-01404  12/28/2020  vsafe_surveys_20201214-20210112.csv   \n",
       "2  3V2-32861-01404  12/28/2020  vsafe_surveys_20201214-20210112.csv   \n",
       "\n",
       "                   ptEnglish  lltEnglish  lltVersion  \n",
       "1                   Headache    Headache        25.1  \n",
       "2  Musculoskeletal stiffness  Stiff neck        25.1  "
      ]
     },
     "execution_count": 11,
     "metadata": {},
     "output_type": "execute_result"
    }
   ],
   "source": [
    "VSafe_symptoms_records_df[VSafe_symptoms_records_df['ResponseOtherNbr'] == 74651]"
   ]
  },
  {
   "cell_type": "code",
   "execution_count": 12,
   "id": "e8b30f6f",
   "metadata": {},
   "outputs": [],
   "source": [
    "VSafe_symptoms_records_df_cleaned = pd.DataFrame()\n",
    "\n",
    "VSafe_symptoms_records_df_cleaned['ID_txt_zip'] = pd.Series(zip(VSafe_symptoms_records_df['ResponseOtherNbr'], VSafe_symptoms_records_df['Symptoms_Other'])).unique()\n",
    "VSafe_symptoms_records_df_cleaned['Resp-ID'] = VSafe_symptoms_records_df_cleaned['ID_txt_zip'].map(lambda x: x[0])\n",
    "VSafe_symptoms_records_df_cleaned['Symptom_txt'] = VSafe_symptoms_records_df_cleaned['ID_txt_zip'].map(lambda x: x[1])\n",
    "VSafe_symptoms_records_df_cleaned = VSafe_symptoms_records_df_cleaned.drop('ID_txt_zip', axis = 1)\n",
    "\n",
    "for LLT in VSafe_symptoms_records_df_lltEnglish_value_counts.head(15).index:\n",
    "    VSafe_symptoms_records_df_cleaned[LLT] = 0\n",
    "    \n",
    "for ID in VSafe_symptoms_records_df_cleaned['Resp-ID'].unique():\n",
    "    for LLT in VSafe_symptoms_records_df[VSafe_symptoms_records_df['ResponseOtherNbr'] == ID]['lltEnglish'].unique():\n",
    "        if LLT in VSafe_symptoms_records_df_lltEnglish_value_counts.head(15).index:\n",
    "            VSafe_symptoms_records_df_cleaned.loc[VSafe_symptoms_records_df_cleaned['Resp-ID'] == ID, LLT] = 1\n"
   ]
  },
  {
   "cell_type": "code",
   "execution_count": 13,
   "id": "cddb7d43",
   "metadata": {},
   "outputs": [
    {
     "data": {
      "text/plain": [
       "(32813, 17)"
      ]
     },
     "execution_count": 13,
     "metadata": {},
     "output_type": "execute_result"
    }
   ],
   "source": [
    "VSafe_symptoms_records_df_cleaned.shape"
   ]
  },
  {
   "cell_type": "code",
   "execution_count": 14,
   "id": "c4986beb",
   "metadata": {},
   "outputs": [
    {
     "data": {
      "text/html": [
       "<div>\n",
       "<style scoped>\n",
       "    .dataframe tbody tr th:only-of-type {\n",
       "        vertical-align: middle;\n",
       "    }\n",
       "\n",
       "    .dataframe tbody tr th {\n",
       "        vertical-align: top;\n",
       "    }\n",
       "\n",
       "    .dataframe thead th {\n",
       "        text-align: right;\n",
       "    }\n",
       "</style>\n",
       "<table border=\"1\" class=\"dataframe\">\n",
       "  <thead>\n",
       "    <tr style=\"text-align: right;\">\n",
       "      <th></th>\n",
       "      <th>Resp-ID</th>\n",
       "      <th>Symptom_txt</th>\n",
       "      <th>Headache</th>\n",
       "      <th>Fatigue</th>\n",
       "      <th>Sore throat</th>\n",
       "      <th>Cough</th>\n",
       "      <th>Nausea</th>\n",
       "      <th>Injection site redness</th>\n",
       "      <th>Generalized aching</th>\n",
       "      <th>Fever</th>\n",
       "      <th>Diarrhea</th>\n",
       "      <th>Chills</th>\n",
       "      <th>Respiratory tract congestion</th>\n",
       "      <th>Injection site itching</th>\n",
       "      <th>Runny nose</th>\n",
       "      <th>COVID-19</th>\n",
       "      <th>COVID-19 virus test positive</th>\n",
       "    </tr>\n",
       "  </thead>\n",
       "  <tbody>\n",
       "  </tbody>\n",
       "</table>\n",
       "</div>"
      ],
      "text/plain": [
       "Empty DataFrame\n",
       "Columns: [Resp-ID, Symptom_txt, Headache, Fatigue, Sore throat, Cough, Nausea, Injection site redness, Generalized aching, Fever, Diarrhea, Chills, Respiratory tract congestion, Injection site itching, Runny nose, COVID-19, COVID-19 virus test positive]\n",
       "Index: []"
      ]
     },
     "execution_count": 14,
     "metadata": {},
     "output_type": "execute_result"
    }
   ],
   "source": [
    "VSafe_symptoms_records_df_cleaned[VSafe_symptoms_records_df_cleaned['Symptom_txt'].isna()]"
   ]
  },
  {
   "cell_type": "code",
   "execution_count": 15,
   "id": "a3d1ea2c",
   "metadata": {},
   "outputs": [
    {
     "data": {
      "text/html": [
       "<div>\n",
       "<style scoped>\n",
       "    .dataframe tbody tr th:only-of-type {\n",
       "        vertical-align: middle;\n",
       "    }\n",
       "\n",
       "    .dataframe tbody tr th {\n",
       "        vertical-align: top;\n",
       "    }\n",
       "\n",
       "    .dataframe thead th {\n",
       "        text-align: right;\n",
       "    }\n",
       "</style>\n",
       "<table border=\"1\" class=\"dataframe\">\n",
       "  <thead>\n",
       "    <tr style=\"text-align: right;\">\n",
       "      <th></th>\n",
       "      <th>Resp-ID</th>\n",
       "      <th>Symptom_txt</th>\n",
       "      <th>Headache</th>\n",
       "      <th>Fatigue</th>\n",
       "      <th>Sore throat</th>\n",
       "      <th>Cough</th>\n",
       "      <th>Nausea</th>\n",
       "      <th>Injection site redness</th>\n",
       "      <th>Generalized aching</th>\n",
       "      <th>Fever</th>\n",
       "      <th>Diarrhea</th>\n",
       "      <th>Chills</th>\n",
       "      <th>Respiratory tract congestion</th>\n",
       "      <th>Injection site itching</th>\n",
       "      <th>Runny nose</th>\n",
       "      <th>COVID-19</th>\n",
       "      <th>COVID-19 virus test positive</th>\n",
       "    </tr>\n",
       "  </thead>\n",
       "  <tbody>\n",
       "    <tr>\n",
       "      <th>6985</th>\n",
       "      <td>163823</td>\n",
       "      <td>BLANK</td>\n",
       "      <td>0</td>\n",
       "      <td>0</td>\n",
       "      <td>0</td>\n",
       "      <td>0</td>\n",
       "      <td>0</td>\n",
       "      <td>0</td>\n",
       "      <td>0</td>\n",
       "      <td>0</td>\n",
       "      <td>0</td>\n",
       "      <td>0</td>\n",
       "      <td>0</td>\n",
       "      <td>0</td>\n",
       "      <td>0</td>\n",
       "      <td>0</td>\n",
       "      <td>0</td>\n",
       "    </tr>\n",
       "    <tr>\n",
       "      <th>7924</th>\n",
       "      <td>176235</td>\n",
       "      <td>BLANK</td>\n",
       "      <td>0</td>\n",
       "      <td>0</td>\n",
       "      <td>0</td>\n",
       "      <td>0</td>\n",
       "      <td>0</td>\n",
       "      <td>0</td>\n",
       "      <td>0</td>\n",
       "      <td>0</td>\n",
       "      <td>0</td>\n",
       "      <td>0</td>\n",
       "      <td>0</td>\n",
       "      <td>0</td>\n",
       "      <td>0</td>\n",
       "      <td>0</td>\n",
       "      <td>0</td>\n",
       "    </tr>\n",
       "    <tr>\n",
       "      <th>17489</th>\n",
       "      <td>213740</td>\n",
       "      <td>BLANK</td>\n",
       "      <td>0</td>\n",
       "      <td>0</td>\n",
       "      <td>0</td>\n",
       "      <td>0</td>\n",
       "      <td>0</td>\n",
       "      <td>0</td>\n",
       "      <td>0</td>\n",
       "      <td>0</td>\n",
       "      <td>0</td>\n",
       "      <td>0</td>\n",
       "      <td>0</td>\n",
       "      <td>0</td>\n",
       "      <td>0</td>\n",
       "      <td>0</td>\n",
       "      <td>0</td>\n",
       "    </tr>\n",
       "    <tr>\n",
       "      <th>20730</th>\n",
       "      <td>259868</td>\n",
       "      <td>BLANK</td>\n",
       "      <td>0</td>\n",
       "      <td>0</td>\n",
       "      <td>0</td>\n",
       "      <td>0</td>\n",
       "      <td>0</td>\n",
       "      <td>0</td>\n",
       "      <td>0</td>\n",
       "      <td>0</td>\n",
       "      <td>0</td>\n",
       "      <td>0</td>\n",
       "      <td>0</td>\n",
       "      <td>0</td>\n",
       "      <td>0</td>\n",
       "      <td>0</td>\n",
       "      <td>0</td>\n",
       "    </tr>\n",
       "    <tr>\n",
       "      <th>31594</th>\n",
       "      <td>346365</td>\n",
       "      <td>BLANK</td>\n",
       "      <td>0</td>\n",
       "      <td>0</td>\n",
       "      <td>0</td>\n",
       "      <td>0</td>\n",
       "      <td>0</td>\n",
       "      <td>0</td>\n",
       "      <td>0</td>\n",
       "      <td>0</td>\n",
       "      <td>0</td>\n",
       "      <td>0</td>\n",
       "      <td>0</td>\n",
       "      <td>0</td>\n",
       "      <td>0</td>\n",
       "      <td>0</td>\n",
       "      <td>0</td>\n",
       "    </tr>\n",
       "    <tr>\n",
       "      <th>32744</th>\n",
       "      <td>347523</td>\n",
       "      <td>BLANK</td>\n",
       "      <td>0</td>\n",
       "      <td>0</td>\n",
       "      <td>0</td>\n",
       "      <td>0</td>\n",
       "      <td>0</td>\n",
       "      <td>0</td>\n",
       "      <td>0</td>\n",
       "      <td>0</td>\n",
       "      <td>0</td>\n",
       "      <td>0</td>\n",
       "      <td>0</td>\n",
       "      <td>0</td>\n",
       "      <td>0</td>\n",
       "      <td>0</td>\n",
       "      <td>0</td>\n",
       "    </tr>\n",
       "  </tbody>\n",
       "</table>\n",
       "</div>"
      ],
      "text/plain": [
       "       Resp-ID Symptom_txt  Headache  Fatigue  Sore throat  Cough  Nausea  \\\n",
       "6985    163823       BLANK         0        0            0      0       0   \n",
       "7924    176235       BLANK         0        0            0      0       0   \n",
       "17489   213740       BLANK         0        0            0      0       0   \n",
       "20730   259868       BLANK         0        0            0      0       0   \n",
       "31594   346365       BLANK         0        0            0      0       0   \n",
       "32744   347523       BLANK         0        0            0      0       0   \n",
       "\n",
       "       Injection site redness  Generalized aching  Fever  Diarrhea  Chills  \\\n",
       "6985                        0                   0      0         0       0   \n",
       "7924                        0                   0      0         0       0   \n",
       "17489                       0                   0      0         0       0   \n",
       "20730                       0                   0      0         0       0   \n",
       "31594                       0                   0      0         0       0   \n",
       "32744                       0                   0      0         0       0   \n",
       "\n",
       "       Respiratory tract congestion  Injection site itching  Runny nose  \\\n",
       "6985                              0                       0           0   \n",
       "7924                              0                       0           0   \n",
       "17489                             0                       0           0   \n",
       "20730                             0                       0           0   \n",
       "31594                             0                       0           0   \n",
       "32744                             0                       0           0   \n",
       "\n",
       "       COVID-19  COVID-19 virus test positive  \n",
       "6985          0                             0  \n",
       "7924          0                             0  \n",
       "17489         0                             0  \n",
       "20730         0                             0  \n",
       "31594         0                             0  \n",
       "32744         0                             0  "
      ]
     },
     "execution_count": 15,
     "metadata": {},
     "output_type": "execute_result"
    }
   ],
   "source": [
    "VSafe_symptoms_records_df_cleaned[VSafe_symptoms_records_df_cleaned['Symptom_txt'] == 'BLANK']"
   ]
  },
  {
   "cell_type": "code",
   "execution_count": 16,
   "id": "171e72b2",
   "metadata": {},
   "outputs": [],
   "source": [
    "VSafe_symptoms_records_df_lltEnglish_value_counts_1000_up = VSafe_symptoms_records_df_lltEnglish_value_counts[VSafe_symptoms_records_df_lltEnglish_value_counts > 1000].index"
   ]
  },
  {
   "cell_type": "code",
   "execution_count": 17,
   "id": "18b9678b",
   "metadata": {},
   "outputs": [],
   "source": [
    "VSafe_symptoms_records_df_rel = VSafe_symptoms_records_df[VSafe_symptoms_records_df['lltEnglish'].isin(VSafe_symptoms_records_df_lltEnglish_value_counts_1000_up)]"
   ]
  },
  {
   "cell_type": "code",
   "execution_count": 18,
   "id": "aecd10f1",
   "metadata": {},
   "outputs": [],
   "source": [
    "#VSafe_symptoms_records_df_rel[['Symptoms_Other', 'ResponseID', 'lltEnglish']].to_csv(r'C:\\Users\\badri.prasad\\OneDrive - GDIT\\Documents\\VSAFE\\VSafeCoded_records_until_11_1420221206094319\\candidate_LLT.csv')"
   ]
  },
  {
   "cell_type": "code",
   "execution_count": 19,
   "id": "adb59f35",
   "metadata": {},
   "outputs": [
    {
     "name": "stderr",
     "output_type": "stream",
     "text": [
      "Some weights of the model checkpoint at distilbert-base-uncased were not used when initializing DistilBertModel: ['vocab_projector.weight', 'vocab_layer_norm.weight', 'vocab_transform.weight', 'vocab_transform.bias', 'vocab_projector.bias', 'vocab_layer_norm.bias']\n",
      "- This IS expected if you are initializing DistilBertModel from the checkpoint of a model trained on another task or with another architecture (e.g. initializing a BertForSequenceClassification model from a BertForPreTraining model).\n",
      "- This IS NOT expected if you are initializing DistilBertModel from the checkpoint of a model that you expect to be exactly identical (initializing a BertForSequenceClassification model from a BertForSequenceClassification model).\n"
     ]
    }
   ],
   "source": [
    "# Load pretrained model/tokenizer\n",
    "tokenizer = tokenizer_class.from_pretrained(pretrained_weights)\n",
    "model = model_class.from_pretrained(pretrained_weights)"
   ]
  },
  {
   "cell_type": "code",
   "execution_count": 20,
   "id": "0cbb21e7",
   "metadata": {},
   "outputs": [],
   "source": [
    "tokenized = VSafe_symptoms_records_df_cleaned['Symptom_txt'].apply((lambda x: tokenizer.encode(x, add_special_tokens=True)))"
   ]
  },
  {
   "cell_type": "code",
   "execution_count": 21,
   "id": "bc8ae8e5",
   "metadata": {},
   "outputs": [],
   "source": [
    "max_len = 0\n",
    "for i in tokenized.values:\n",
    "    if len(i) > max_len:\n",
    "        max_len = len(i)\n",
    "\n",
    "padded = np.array([i + [0]*(max_len-len(i)) for i in tokenized.values])  "
   ]
  },
  {
   "cell_type": "code",
   "execution_count": 22,
   "id": "52505e2a",
   "metadata": {},
   "outputs": [
    {
     "data": {
      "text/plain": [
       "(32813, 88)"
      ]
     },
     "execution_count": 22,
     "metadata": {},
     "output_type": "execute_result"
    }
   ],
   "source": [
    "np.array(padded).shape"
   ]
  },
  {
   "cell_type": "code",
   "execution_count": 23,
   "id": "5cef5be7",
   "metadata": {},
   "outputs": [
    {
     "data": {
      "text/plain": [
       "(32813, 88)"
      ]
     },
     "execution_count": 23,
     "metadata": {},
     "output_type": "execute_result"
    }
   ],
   "source": [
    "attention_mask = np.where(padded != 0, 1, 0)\n",
    "attention_mask.shape"
   ]
  },
  {
   "cell_type": "code",
   "execution_count": 24,
   "id": "fe1e77f1",
   "metadata": {},
   "outputs": [],
   "source": [
    "padded = padded\n",
    "attention_mask = attention_mask"
   ]
  },
  {
   "cell_type": "code",
   "execution_count": 25,
   "id": "3583d507",
   "metadata": {},
   "outputs": [
    {
     "name": "stdout",
     "output_type": "stream",
     "text": [
      "Iteration 1 is completed at 2023-02-09 15:25:21.255249\n",
      "Iteration 2 is completed at 2023-02-09 15:26:11.327765\n",
      "Iteration 3 is completed at 2023-02-09 15:26:59.204615\n",
      "Iteration 4 is completed at 2023-02-09 15:27:48.491742\n",
      "Iteration 5 is completed at 2023-02-09 15:28:36.275562\n",
      "Iteration 6 is completed at 2023-02-09 15:29:23.061494\n",
      "Iteration 7 is completed at 2023-02-09 15:30:11.204896\n",
      "Iteration 8 is completed at 2023-02-09 15:31:00.240296\n",
      "Iteration 9 is completed at 2023-02-09 15:31:47.556472\n",
      "Iteration 10 is completed at 2023-02-09 15:32:35.368981\n",
      "Iteration 11 is completed at 2023-02-09 15:33:22.846613\n",
      "Iteration 12 is completed at 2023-02-09 15:34:10.576618\n",
      "Iteration 13 is completed at 2023-02-09 15:34:59.134953\n",
      "Iteration 14 is completed at 2023-02-09 15:35:47.978369\n",
      "Iteration 15 is completed at 2023-02-09 15:36:36.453984\n",
      "Iteration 16 is completed at 2023-02-09 15:37:24.289742\n",
      "Iteration 17 is completed at 2023-02-09 15:37:43.993736\n"
     ]
    }
   ],
   "source": [
    "last_hidden_states_list = []\n",
    "\n",
    "for i in range(int(np.ceil(padded.shape[0]/2000))):\n",
    "    input_ids_iter = torch.tensor(padded[(2000*i):(2000*(i + 1))])  \n",
    "    attention_mask_iter = torch.tensor(attention_mask[(2000*i):(2000*(i + 1))])\n",
    "    \n",
    "    with torch.no_grad():\n",
    "        last_hidden_states = model(input_ids_iter, attention_mask=attention_mask_iter)\n",
    "        \n",
    "    last_hidden_states_list.append(last_hidden_states.last_hidden_state)\n",
    "    \n",
    "    print('Iteration ' + str((i + 1)) + ' is completed at ' + str(datetime.datetime.now()))"
   ]
  },
  {
   "cell_type": "code",
   "execution_count": 26,
   "id": "557192bc",
   "metadata": {},
   "outputs": [],
   "source": [
    "last_hidden_states_cat = torch.cat(tuple(last_hidden_states_list), 0)"
   ]
  },
  {
   "cell_type": "code",
   "execution_count": 27,
   "id": "c580da93",
   "metadata": {},
   "outputs": [],
   "source": [
    "features = last_hidden_states_cat[:,0,:].numpy()"
   ]
  },
  {
   "cell_type": "code",
   "execution_count": 28,
   "id": "6d18ffe1",
   "metadata": {},
   "outputs": [],
   "source": [
    "#lr_clf = LogisticRegression(max_iter = 3000)\n",
    "#lr_clf.fit(train_features, train_labels)     "
   ]
  },
  {
   "cell_type": "code",
   "execution_count": 29,
   "id": "382c2b0a",
   "metadata": {},
   "outputs": [],
   "source": [
    "from sklearn.metrics import *"
   ]
  },
  {
   "cell_type": "code",
   "execution_count": 30,
   "id": "fc9f06e3",
   "metadata": {
    "scrolled": true
   },
   "outputs": [
    {
     "name": "stdout",
     "output_type": "stream",
     "text": [
      "For Headache, The efficacy of the model is (out of 1) 0.9539249146757679\n",
      "For Headache, Accuracy is 0.9539249146757679\n",
      "For Headache, Recall is 0.8942307692307693\n",
      "For Headache, Precision is 0.8922121896162528\n",
      "For Headache, F1-Score is 0.8932203389830509\n",
      "For Headache, AUC is 0.9322769756657264\n",
      "For Fatigue, The efficacy of the model is (out of 1) 0.977206240858118\n",
      "For Fatigue, Accuracy is 0.977206240858118\n",
      "For Fatigue, Recall is 0.8701007838745801\n",
      "For Fatigue, Precision is 0.9162735849056604\n",
      "For Fatigue, F1-Score is 0.8925904652498565\n",
      "For Fatigue, AUC is 0.9301946950422005\n",
      "For Sore throat, The efficacy of the model is (out of 1) 0.9842759629449049\n",
      "For Sore throat, Accuracy is 0.9842759629449049\n",
      "For Sore throat, Recall is 0.8583941605839416\n",
      "For Sore throat, Precision is 0.9483870967741935\n",
      "For Sore throat, F1-Score is 0.9011494252873562\n",
      "For Sore throat, AUC is 0.9270691377464195\n",
      "For Cough, The efficacy of the model is (out of 1) 0.9790346172598733\n",
      "For Cough, Accuracy is 0.9790346172598733\n",
      "For Cough, Recall is 0.8430141287284144\n",
      "For Cough, Precision is 0.8817733990147784\n",
      "For Cough, F1-Score is 0.8619582664526485\n",
      "For Cough, AUC is 0.916749564694589\n",
      "For Nausea, The efficacy of the model is (out of 1) 0.9867137981472452\n",
      "For Nausea, Accuracy is 0.9867137981472452\n",
      "For Nausea, Recall is 0.8183856502242153\n",
      "For Nausea, Precision is 0.9287531806615776\n",
      "For Nausea, F1-Score is 0.8700834326579261\n",
      "For Nausea, AUC is 0.9073882363005582\n",
      "For Injection site redness, The efficacy of the model is (out of 1) 0.977328132618235\n",
      "For Injection site redness, Accuracy is 0.977328132618235\n",
      "For Injection site redness, Recall is 0.7608695652173914\n",
      "For Injection site redness, Precision is 0.8215962441314554\n",
      "For Injection site redness, F1-Score is 0.7900677200902936\n",
      "For Injection site redness, AUC is 0.8755277578153072\n",
      "For Generalized aching, The efficacy of the model is (out of 1) 0.9736713798147245\n",
      "For Generalized aching, Accuracy is 0.9736713798147245\n",
      "For Generalized aching, Recall is 0.6523809523809524\n",
      "For Generalized aching, Precision is 0.7965116279069767\n",
      "For Generalized aching, F1-Score is 0.7172774869109948\n",
      "For Generalized aching, AUC is 0.8216940733127783\n",
      "For Fever, The efficacy of the model is (out of 1) 0.9841540711847879\n",
      "For Fever, Accuracy is 0.9841540711847879\n",
      "For Fever, Recall is 0.7742718446601942\n",
      "For Fever, Precision is 0.8960674157303371\n",
      "For Fever, F1-Score is 0.8307291666666667\n",
      "For Fever, AUC is 0.884761692350631\n",
      "For Diarrhea, The efficacy of the model is (out of 1) 0.9885421745490005\n",
      "For Diarrhea, Accuracy is 0.9885421745490005\n",
      "For Diarrhea, Recall is 0.7875647668393783\n",
      "For Diarrhea, Precision is 0.9620253164556962\n",
      "For Diarrhea, F1-Score is 0.8660968660968662\n",
      "For Diarrhea, AUC is 0.8930149237113238\n",
      "For Chills, The efficacy of the model is (out of 1) 0.9872013651877133\n",
      "For Chills, Accuracy is 0.9872013651877133\n",
      "For Chills, Recall is 0.8251231527093597\n",
      "For Chills, Precision is 0.907859078590786\n",
      "For Chills, F1-Score is 0.8645161290322582\n",
      "For Chills, AUC is 0.9103815301889964\n",
      "For Respiratory tract congestion, The efficacy of the model is (out of 1) 0.9822038030229157\n",
      "For Respiratory tract congestion, Accuracy is 0.9822038030229157\n",
      "For Respiratory tract congestion, Recall is 0.763681592039801\n",
      "For Respiratory tract congestion, Precision is 0.8575418994413407\n",
      "For Respiratory tract congestion, F1-Score is 0.8078947368421053\n",
      "For Respiratory tract congestion, AUC is 0.878572403300085\n",
      "For Injection site itching, The efficacy of the model is (out of 1) 0.9795221843003413\n",
      "For Injection site itching, Accuracy is 0.9795221843003413\n",
      "For Injection site itching, Recall is 0.7134328358208956\n",
      "For Injection site itching, Precision is 0.7684887459807074\n",
      "For Injection site itching, F1-Score is 0.739938080495356\n",
      "For Injection site itching, AUC is 0.8521415036900895\n",
      "For Runny nose, The efficacy of the model is (out of 1) 0.9926864943929791\n",
      "For Runny nose, Accuracy is 0.9926864943929791\n",
      "For Runny nose, Recall is 0.8910614525139665\n",
      "For Runny nose, Precision is 0.9382352941176471\n",
      "For Runny nose, F1-Score is 0.9140401146131805\n",
      "For Runny nose, AUC is 0.9441924647224433\n",
      "For COVID-19, The efficacy of the model is (out of 1) 0.9748902974158947\n",
      "For COVID-19, Accuracy is 0.9748902974158947\n",
      "For COVID-19, Recall is 0.6121794871794872\n",
      "For COVID-19, Precision is 0.6920289855072463\n",
      "For COVID-19, F1-Score is 0.6496598639455782\n",
      "For COVID-19, AUC is 0.8007045433870066\n",
      "For COVID-19 virus test positive, The efficacy of the model is (out of 1) 0.9807411019015114\n",
      "For COVID-19 virus test positive, Accuracy is 0.9807411019015114\n",
      "For COVID-19 virus test positive, Recall is 0.6855345911949685\n",
      "For COVID-19 virus test positive, Precision is 0.7898550724637681\n",
      "For COVID-19 virus test positive, F1-Score is 0.734006734006734\n",
      "For COVID-19 virus test positive, AUC is 0.8390898926048391\n"
     ]
    }
   ],
   "source": [
    "dataframe_data_list = []\n",
    "\n",
    "for LLT in VSafe_symptoms_records_df_lltEnglish_value_counts_1000_up:\n",
    "    train_features, test_features, train_labels, test_labels = train_test_split(features, VSafe_symptoms_records_df_cleaned[LLT])\n",
    "    lr_clf = LogisticRegression(max_iter=3000)\n",
    "    lr_clf.fit(train_features, train_labels)\n",
    "    \n",
    "    fpr, tpr, thresholds = roc_curve(test_labels, lr_clf.predict(test_features), pos_label=1)\n",
    "\n",
    "    \n",
    "    print('For ' + LLT + ', The efficacy of the model is (out of 1) ' + str(lr_clf.score(test_features, test_labels)))\n",
    "    \n",
    "    print('For ' + LLT + ', Accuracy is ' + str(accuracy_score(test_labels, lr_clf.predict(test_features))))\n",
    "    print('For ' + LLT + ', Recall is ' + str(recall_score(test_labels, lr_clf.predict(test_features))))\n",
    "    print('For ' + LLT + ', Precision is ' + str(precision_score(test_labels, lr_clf.predict(test_features))))\n",
    "    print('For ' + LLT + ', F1-Score is ' + str(f1_score(test_labels, lr_clf.predict(test_features))))\n",
    "    print('For ' + LLT + ', AUC is ' + str(auc(fpr, tpr)))#\n",
    "    \n",
    "    dataframe_data_list.append([LLT, round(accuracy_score(test_labels, lr_clf.predict(test_features)), 4), round(recall_score(test_labels, lr_clf.predict(test_features)), 4),\n",
    "                               round(precision_score(test_labels, lr_clf.predict(test_features)), 4), round(f1_score(test_labels, lr_clf.predict(test_features)), 4),\n",
    "                               round(auc(fpr, tpr), 4)])"
   ]
  },
  {
   "cell_type": "code",
   "execution_count": 31,
   "id": "4b1cef42",
   "metadata": {},
   "outputs": [],
   "source": [
    "# Step to write out the data\n",
    "pd.DataFrame(dataframe_data_list, columns = ['LLT', 'ACCURACY', 'RECALL', 'PRECISION', 'F1-SCORE', 'AUC']).to_csv('Test-15.csv')"
   ]
  },
  {
   "cell_type": "code",
   "execution_count": 31,
   "id": "02fa63dc",
   "metadata": {},
   "outputs": [
    {
     "data": {
      "text/plain": [
       "[['Headache', 0.9539, 0.8942, 0.8922, 0.8932, 0.9323],\n",
       " ['Fatigue', 0.9772, 0.8701, 0.9163, 0.8926, 0.9302],\n",
       " ['Sore throat', 0.9843, 0.8584, 0.9484, 0.9011, 0.9271],\n",
       " ['Cough', 0.979, 0.843, 0.8818, 0.862, 0.9167],\n",
       " ['Nausea', 0.9867, 0.8184, 0.9288, 0.8701, 0.9074],\n",
       " ['Injection site redness', 0.9773, 0.7609, 0.8216, 0.7901, 0.8755],\n",
       " ['Generalized aching', 0.9737, 0.6524, 0.7965, 0.7173, 0.8217],\n",
       " ['Fever', 0.9842, 0.7743, 0.8961, 0.8307, 0.8848],\n",
       " ['Diarrhea', 0.9885, 0.7876, 0.962, 0.8661, 0.893],\n",
       " ['Chills', 0.9872, 0.8251, 0.9079, 0.8645, 0.9104],\n",
       " ['Respiratory tract congestion', 0.9822, 0.7637, 0.8575, 0.8079, 0.8786],\n",
       " ['Injection site itching', 0.9795, 0.7134, 0.7685, 0.7399, 0.8521],\n",
       " ['Runny nose', 0.9927, 0.8911, 0.9382, 0.914, 0.9442],\n",
       " ['COVID-19', 0.9749, 0.6122, 0.692, 0.6497, 0.8007],\n",
       " ['COVID-19 virus test positive', 0.9807, 0.6855, 0.7899, 0.734, 0.8391]]"
      ]
     },
     "execution_count": 31,
     "metadata": {},
     "output_type": "execute_result"
    }
   ],
   "source": [
    "dataframe_data_list"
   ]
  },
  {
   "cell_type": "code",
   "execution_count": 32,
   "id": "38040cd7",
   "metadata": {},
   "outputs": [
    {
     "data": {
      "text/html": [
       "<div>\n",
       "<style scoped>\n",
       "    .dataframe tbody tr th:only-of-type {\n",
       "        vertical-align: middle;\n",
       "    }\n",
       "\n",
       "    .dataframe tbody tr th {\n",
       "        vertical-align: top;\n",
       "    }\n",
       "\n",
       "    .dataframe thead th {\n",
       "        text-align: right;\n",
       "    }\n",
       "</style>\n",
       "<table border=\"1\" class=\"dataframe\">\n",
       "  <thead>\n",
       "    <tr style=\"text-align: right;\">\n",
       "      <th></th>\n",
       "      <th>LLT</th>\n",
       "      <th>ACCURACY</th>\n",
       "      <th>RECALL</th>\n",
       "      <th>PRECISION</th>\n",
       "      <th>F1-SCORE</th>\n",
       "      <th>AUC</th>\n",
       "    </tr>\n",
       "  </thead>\n",
       "  <tbody>\n",
       "    <tr>\n",
       "      <th>0</th>\n",
       "      <td>Headache</td>\n",
       "      <td>0.9539</td>\n",
       "      <td>0.8942</td>\n",
       "      <td>0.8922</td>\n",
       "      <td>0.8932</td>\n",
       "      <td>0.9323</td>\n",
       "    </tr>\n",
       "    <tr>\n",
       "      <th>1</th>\n",
       "      <td>Fatigue</td>\n",
       "      <td>0.9772</td>\n",
       "      <td>0.8701</td>\n",
       "      <td>0.9163</td>\n",
       "      <td>0.8926</td>\n",
       "      <td>0.9302</td>\n",
       "    </tr>\n",
       "    <tr>\n",
       "      <th>2</th>\n",
       "      <td>Sore throat</td>\n",
       "      <td>0.9843</td>\n",
       "      <td>0.8584</td>\n",
       "      <td>0.9484</td>\n",
       "      <td>0.9011</td>\n",
       "      <td>0.9271</td>\n",
       "    </tr>\n",
       "    <tr>\n",
       "      <th>3</th>\n",
       "      <td>Cough</td>\n",
       "      <td>0.9790</td>\n",
       "      <td>0.8430</td>\n",
       "      <td>0.8818</td>\n",
       "      <td>0.8620</td>\n",
       "      <td>0.9167</td>\n",
       "    </tr>\n",
       "    <tr>\n",
       "      <th>4</th>\n",
       "      <td>Nausea</td>\n",
       "      <td>0.9867</td>\n",
       "      <td>0.8184</td>\n",
       "      <td>0.9288</td>\n",
       "      <td>0.8701</td>\n",
       "      <td>0.9074</td>\n",
       "    </tr>\n",
       "    <tr>\n",
       "      <th>5</th>\n",
       "      <td>Injection site redness</td>\n",
       "      <td>0.9773</td>\n",
       "      <td>0.7609</td>\n",
       "      <td>0.8216</td>\n",
       "      <td>0.7901</td>\n",
       "      <td>0.8755</td>\n",
       "    </tr>\n",
       "    <tr>\n",
       "      <th>6</th>\n",
       "      <td>Generalized aching</td>\n",
       "      <td>0.9737</td>\n",
       "      <td>0.6524</td>\n",
       "      <td>0.7965</td>\n",
       "      <td>0.7173</td>\n",
       "      <td>0.8217</td>\n",
       "    </tr>\n",
       "    <tr>\n",
       "      <th>7</th>\n",
       "      <td>Fever</td>\n",
       "      <td>0.9842</td>\n",
       "      <td>0.7743</td>\n",
       "      <td>0.8961</td>\n",
       "      <td>0.8307</td>\n",
       "      <td>0.8848</td>\n",
       "    </tr>\n",
       "    <tr>\n",
       "      <th>8</th>\n",
       "      <td>Diarrhea</td>\n",
       "      <td>0.9885</td>\n",
       "      <td>0.7876</td>\n",
       "      <td>0.9620</td>\n",
       "      <td>0.8661</td>\n",
       "      <td>0.8930</td>\n",
       "    </tr>\n",
       "    <tr>\n",
       "      <th>9</th>\n",
       "      <td>Chills</td>\n",
       "      <td>0.9872</td>\n",
       "      <td>0.8251</td>\n",
       "      <td>0.9079</td>\n",
       "      <td>0.8645</td>\n",
       "      <td>0.9104</td>\n",
       "    </tr>\n",
       "    <tr>\n",
       "      <th>10</th>\n",
       "      <td>Respiratory tract congestion</td>\n",
       "      <td>0.9822</td>\n",
       "      <td>0.7637</td>\n",
       "      <td>0.8575</td>\n",
       "      <td>0.8079</td>\n",
       "      <td>0.8786</td>\n",
       "    </tr>\n",
       "    <tr>\n",
       "      <th>11</th>\n",
       "      <td>Injection site itching</td>\n",
       "      <td>0.9795</td>\n",
       "      <td>0.7134</td>\n",
       "      <td>0.7685</td>\n",
       "      <td>0.7399</td>\n",
       "      <td>0.8521</td>\n",
       "    </tr>\n",
       "    <tr>\n",
       "      <th>12</th>\n",
       "      <td>Runny nose</td>\n",
       "      <td>0.9927</td>\n",
       "      <td>0.8911</td>\n",
       "      <td>0.9382</td>\n",
       "      <td>0.9140</td>\n",
       "      <td>0.9442</td>\n",
       "    </tr>\n",
       "    <tr>\n",
       "      <th>13</th>\n",
       "      <td>COVID-19</td>\n",
       "      <td>0.9749</td>\n",
       "      <td>0.6122</td>\n",
       "      <td>0.6920</td>\n",
       "      <td>0.6497</td>\n",
       "      <td>0.8007</td>\n",
       "    </tr>\n",
       "    <tr>\n",
       "      <th>14</th>\n",
       "      <td>COVID-19 virus test positive</td>\n",
       "      <td>0.9807</td>\n",
       "      <td>0.6855</td>\n",
       "      <td>0.7899</td>\n",
       "      <td>0.7340</td>\n",
       "      <td>0.8391</td>\n",
       "    </tr>\n",
       "  </tbody>\n",
       "</table>\n",
       "</div>"
      ],
      "text/plain": [
       "                             LLT  ACCURACY  RECALL  PRECISION  F1-SCORE  \\\n",
       "0                       Headache    0.9539  0.8942     0.8922    0.8932   \n",
       "1                        Fatigue    0.9772  0.8701     0.9163    0.8926   \n",
       "2                    Sore throat    0.9843  0.8584     0.9484    0.9011   \n",
       "3                          Cough    0.9790  0.8430     0.8818    0.8620   \n",
       "4                         Nausea    0.9867  0.8184     0.9288    0.8701   \n",
       "5         Injection site redness    0.9773  0.7609     0.8216    0.7901   \n",
       "6             Generalized aching    0.9737  0.6524     0.7965    0.7173   \n",
       "7                          Fever    0.9842  0.7743     0.8961    0.8307   \n",
       "8                       Diarrhea    0.9885  0.7876     0.9620    0.8661   \n",
       "9                         Chills    0.9872  0.8251     0.9079    0.8645   \n",
       "10  Respiratory tract congestion    0.9822  0.7637     0.8575    0.8079   \n",
       "11        Injection site itching    0.9795  0.7134     0.7685    0.7399   \n",
       "12                    Runny nose    0.9927  0.8911     0.9382    0.9140   \n",
       "13                      COVID-19    0.9749  0.6122     0.6920    0.6497   \n",
       "14  COVID-19 virus test positive    0.9807  0.6855     0.7899    0.7340   \n",
       "\n",
       "       AUC  \n",
       "0   0.9323  \n",
       "1   0.9302  \n",
       "2   0.9271  \n",
       "3   0.9167  \n",
       "4   0.9074  \n",
       "5   0.8755  \n",
       "6   0.8217  \n",
       "7   0.8848  \n",
       "8   0.8930  \n",
       "9   0.9104  \n",
       "10  0.8786  \n",
       "11  0.8521  \n",
       "12  0.9442  \n",
       "13  0.8007  \n",
       "14  0.8391  "
      ]
     },
     "execution_count": 32,
     "metadata": {},
     "output_type": "execute_result"
    }
   ],
   "source": [
    "pd.DataFrame(dataframe_data_list, columns = ['LLT', 'ACCURACY', 'RECALL', 'PRECISION', 'F1-SCORE', 'AUC'])"
   ]
  },
  {
   "cell_type": "code",
   "execution_count": 34,
   "id": "0fcd3347",
   "metadata": {},
   "outputs": [],
   "source": [
    "import pickle"
   ]
  },
  {
   "cell_type": "code",
   "execution_count": 36,
   "id": "0aefd50e",
   "metadata": {},
   "outputs": [],
   "source": [
    "for LLT in VSafe_symptoms_records_df_lltEnglish_value_counts_1000_up:\n",
    "    train_features, test_features, train_labels, test_labels = train_test_split(features, VSafe_symptoms_records_df_cleaned[LLT])\n",
    "    lr_clf = LogisticRegression(max_iter=3000)\n",
    "    lr_clf.fit(train_features, train_labels)\n",
    "    \n",
    "    pickle_file_name = LLT + ' model.pkl'\n",
    "    \n",
    "    with open('VSAFE Model Parameters\\ ' + pickle_file_name ,'wb') as f:\n",
    "        pickle.dump(lr_clf,f)\n"
   ]
  },
  {
   "cell_type": "markdown",
   "id": "74e6e891",
   "metadata": {},
   "source": [
    "# Unit Testing"
   ]
  },
  {
   "cell_type": "code",
   "execution_count": 35,
   "id": "380049b9",
   "metadata": {},
   "outputs": [
    {
     "name": "stdout",
     "output_type": "stream",
     "text": [
      "For Headache, The efficacy of the model is (out of 1) 0.9557532910775232\n",
      "For Headache, Accuracy is 0.9557532910775232\n",
      "For Headache, Recall is 0.8847199564980968\n",
      "For Headache, Precision is 0.9150731158605174\n",
      "For Headache, F1-Score is 0.8996405861210948\n",
      "For Headache, AUC is 0.9304982343370296\n"
     ]
    }
   ],
   "source": [
    "for LLT in VSafe_symptoms_records_df_lltEnglish_value_counts_1000_up[:1]:\n",
    "    train_features, test_features, train_labels, test_labels = train_test_split(features, VSafe_symptoms_records_df_cleaned[LLT])\n",
    "    lr_clf = LogisticRegression(max_iter=3000)\n",
    "    lr_clf.fit(train_features, train_labels)\n",
    "    \n",
    "    fpr, tpr, thresholds = roc_curve(test_labels, lr_clf.predict(test_features), pos_label=1)\n",
    "\n",
    "    \n",
    "    print('For ' + LLT + ', The efficacy of the model is (out of 1) ' + str(lr_clf.score(test_features, test_labels)))\n",
    "    \n",
    "    print('For ' + LLT + ', Accuracy is ' + str(accuracy_score(test_labels, lr_clf.predict(test_features))))\n",
    "    print('For ' + LLT + ', Recall is ' + str(recall_score(test_labels, lr_clf.predict(test_features))))\n",
    "    print('For ' + LLT + ', Precision is ' + str(precision_score(test_labels, lr_clf.predict(test_features))))\n",
    "    print('For ' + LLT + ', F1-Score is ' + str(f1_score(test_labels, lr_clf.predict(test_features))))\n",
    "    print('For ' + LLT + ', AUC is ' + str(auc(fpr, tpr)))"
   ]
  },
  {
   "cell_type": "code",
   "execution_count": null,
   "id": "ec026460",
   "metadata": {},
   "outputs": [],
   "source": [
    "NEXT STEPS:\n",
    "    (a) Increase max_iter to eliminate error. See website\n",
    "    (b) Write results to a dataframe. The results are better read in a table\n",
    "    (c) Print metrics to 4 decimal places"
   ]
  },
  {
   "cell_type": "code",
   "execution_count": null,
   "id": "2b7eca8b",
   "metadata": {},
   "outputs": [],
   "source": []
  },
  {
   "cell_type": "code",
   "execution_count": null,
   "id": "f9276743",
   "metadata": {},
   "outputs": [],
   "source": []
  },
  {
   "cell_type": "code",
   "execution_count": null,
   "id": "06891b02",
   "metadata": {},
   "outputs": [],
   "source": []
  },
  {
   "cell_type": "code",
   "execution_count": 24,
   "id": "960684f5",
   "metadata": {},
   "outputs": [],
   "source": [
    "from sklearn import preprocessing\n",
    "le = preprocessing.LabelEncoder()"
   ]
  },
  {
   "cell_type": "code",
   "execution_count": 28,
   "id": "f716e856",
   "metadata": {},
   "outputs": [],
   "source": [
    "labels = le.fit_transform(VSafe_symptoms_records_df_rel['lltEnglish'])"
   ]
  },
  {
   "cell_type": "code",
   "execution_count": 29,
   "id": "4190984f",
   "metadata": {},
   "outputs": [
    {
     "data": {
      "text/plain": [
       "array([ 8, 12, 14, ..., 14, 13, 14])"
      ]
     },
     "execution_count": 29,
     "metadata": {},
     "output_type": "execute_result"
    }
   ],
   "source": [
    "labels"
   ]
  },
  {
   "cell_type": "code",
   "execution_count": 30,
   "id": "c6f3f007",
   "metadata": {},
   "outputs": [],
   "source": [
    "train_features, test_features, train_labels, test_labels = train_test_split(features, labels)"
   ]
  },
  {
   "cell_type": "code",
   "execution_count": 35,
   "id": "8154ff01",
   "metadata": {},
   "outputs": [
    {
     "name": "stderr",
     "output_type": "stream",
     "text": [
      "C:\\ProgramData\\Anaconda3\\lib\\site-packages\\sklearn\\linear_model\\_logistic.py:814: ConvergenceWarning: lbfgs failed to converge (status=1):\n",
      "STOP: TOTAL NO. of ITERATIONS REACHED LIMIT.\n",
      "\n",
      "Increase the number of iterations (max_iter) or scale the data as shown in:\n",
      "    https://scikit-learn.org/stable/modules/preprocessing.html\n",
      "Please also refer to the documentation for alternative solver options:\n",
      "    https://scikit-learn.org/stable/modules/linear_model.html#logistic-regression\n",
      "  n_iter_i = _check_optimize_result(\n"
     ]
    },
    {
     "data": {
      "text/plain": [
       "LogisticRegression()"
      ]
     },
     "execution_count": 35,
     "metadata": {},
     "output_type": "execute_result"
    }
   ],
   "source": [
    "lr_clf = LogisticRegression()\n",
    "lr_clf.fit(train_features, train_labels)"
   ]
  },
  {
   "cell_type": "code",
   "execution_count": 36,
   "id": "dc3be869",
   "metadata": {},
   "outputs": [
    {
     "data": {
      "text/plain": [
       "0.5315626488804193"
      ]
     },
     "execution_count": 36,
     "metadata": {},
     "output_type": "execute_result"
    }
   ],
   "source": [
    "lr_clf.score(test_features, test_labels)"
   ]
  },
  {
   "cell_type": "code",
   "execution_count": 37,
   "id": "7b4435be",
   "metadata": {},
   "outputs": [
    {
     "name": "stdout",
     "output_type": "stream",
     "text": [
      "Dummy classifier score: 0.217 (+/- 0.00)\n"
     ]
    }
   ],
   "source": [
    "from sklearn.dummy import DummyClassifier\n",
    "clf = DummyClassifier()\n",
    "\n",
    "scores = cross_val_score(clf, train_features, train_labels)\n",
    "print(\"Dummy classifier score: %0.3f (+/- %0.2f)\" % (scores.mean(), scores.std() * 2))"
   ]
  },
  {
   "cell_type": "code",
   "execution_count": 38,
   "id": "09a32d45",
   "metadata": {},
   "outputs": [],
   "source": [
    "from sklearn.metrics import *"
   ]
  },
  {
   "cell_type": "code",
   "execution_count": null,
   "id": "3a7ad9fd",
   "metadata": {},
   "outputs": [],
   "source": [
    "print('Accuracy is ' + str(accuracy_score(test_labels, lr_cif.predict(test_features, test_labels))))\n",
    "print('Recall is ' + str(recall_score(test_labels, lr_cif.predict(test_features, test_labels))))\n",
    "print('Recall is ' + str(precision_score(test_labels, lr_cif.predict(test_features, test_labels))))\n",
    "print('F1-Score is ' + str(f1_score(test_labels, lr_cif.predict(test_features, test_labels))))\n",
    "print('Recall is ' + str(recall_score(test_labels, lr_cif.predict(test_features, test_labels))))"
   ]
  }
 ],
 "metadata": {
  "kernelspec": {
   "display_name": "Python 3 (ipykernel)",
   "language": "python",
   "name": "python3"
  },
  "language_info": {
   "codemirror_mode": {
    "name": "ipython",
    "version": 3
   },
   "file_extension": ".py",
   "mimetype": "text/x-python",
   "name": "python",
   "nbconvert_exporter": "python",
   "pygments_lexer": "ipython3",
   "version": "3.9.12"
  }
 },
 "nbformat": 4,
 "nbformat_minor": 5
}
